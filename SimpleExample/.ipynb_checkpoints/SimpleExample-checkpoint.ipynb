{
 "cells": [
  {
   "cell_type": "code",
   "execution_count": 5,
   "metadata": {},
   "outputs": [],
   "source": [
    "# Problem:\n",
    "# 有 x、y、z 三個活動想在同一天舉辦\n",
    "# 場地總時間只有四個小時可使用\n",
    "# 活動 z 的價值為活動 x 及 y 的兩倍\n",
    "# 活動 x 與活動 y 至少要選一個舉辦\n",
    "# 活動 x 需花費1小時\n",
    "# 活動 y 需花費2小時\n",
    "# 活動 z 需花費3小時\n",
    "# 舉辦哪幾個活動可以使價值最大化?"
   ]
  },
  {
   "cell_type": "code",
   "execution_count": 6,
   "metadata": {},
   "outputs": [],
   "source": [
    "# maximize x+y+2z\n",
    "# subject x+2y+3z<=4\n",
    "#         x+y>=1\n",
    "#         x,y,z binary"
   ]
  },
  {
   "cell_type": "code",
   "execution_count": 2,
   "metadata": {},
   "outputs": [
    {
     "name": "stdout",
     "output_type": "stream",
     "text": [
      "x = 1.0\n",
      "y = 0.0\n",
      "z = 1.0\n",
      "obj= 3.0\n"
     ]
    }
   ],
   "source": [
    "from pulp import *\n",
    "model = pulp.LpProblem(\"value max\", pulp.LpMaximize)\n",
    "x = pulp.LpVariable('x',lowBound = 0, cat='Binary')\n",
    "y = pulp.LpVariable('y',lowBound = 0, cat='Binary')\n",
    "z = pulp.LpVariable('z',lowBound = 0, cat='Binary')\n",
    "\n",
    "model += x+y+2*z\n",
    "\n",
    "\n",
    "model += x+2*y+3*z <= 4\n",
    "model += x+y >= 1\n",
    "\n",
    "model.solve()\n",
    "\n",
    "\n",
    "for v in model.variables():\n",
    "    print(v.name, \"=\", v.varValue)\n",
    "    \n",
    "\n",
    "print('obj=',value(model.objective))"
   ]
  },
  {
   "cell_type": "code",
   "execution_count": null,
   "metadata": {},
   "outputs": [],
   "source": []
  }
 ],
 "metadata": {
  "kernelspec": {
   "display_name": "Python 3",
   "language": "python",
   "name": "python3"
  },
  "language_info": {
   "codemirror_mode": {
    "name": "ipython",
    "version": 3
   },
   "file_extension": ".py",
   "mimetype": "text/x-python",
   "name": "python",
   "nbconvert_exporter": "python",
   "pygments_lexer": "ipython3",
   "version": "3.7.0"
  }
 },
 "nbformat": 4,
 "nbformat_minor": 2
}
