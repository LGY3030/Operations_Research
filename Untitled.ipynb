{
 "cells": [
  {
   "cell_type": "code",
   "execution_count": 15,
   "metadata": {},
   "outputs": [
    {
     "name": "stdout",
     "output_type": "stream",
     "text": [
      "(4.0, [0, 2, 3, 1])\n",
      "(4.0, [0, 2, 3, 1])\n"
     ]
    }
   ],
   "source": [
    "import tsp\n",
    "t = tsp.tsp([(0,0), (0,1), (1,0), (1,1)])\n",
    "print(t)\n",
    "\n",
    "mat = [[  0,   1, 1, 1.5],\n",
    "       [  1,   0, 1.5, 1],\n",
    "       [  1, 1.5,   0, 1],\n",
    "       [1.5,   1,   1, 0]]\n",
    "r = range(len(mat))\n",
    "\n",
    "dist = {(i, j): mat[i][j] for i in r for j in r}\n",
    "print(tsp.tsp(r, dist))"
   ]
  },
  {
   "cell_type": "code",
   "execution_count": null,
   "metadata": {},
   "outputs": [],
   "source": []
  }
 ],
 "metadata": {
  "kernelspec": {
   "display_name": "Python 3",
   "language": "python",
   "name": "python3"
  },
  "language_info": {
   "codemirror_mode": {
    "name": "ipython",
    "version": 3
   },
   "file_extension": ".py",
   "mimetype": "text/x-python",
   "name": "python",
   "nbconvert_exporter": "python",
   "pygments_lexer": "ipython3",
   "version": "3.7.0"
  }
 },
 "nbformat": 4,
 "nbformat_minor": 2
}
