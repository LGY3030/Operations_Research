{
 "cells": [
  {
   "cell_type": "code",
   "execution_count": 4,
   "metadata": {},
   "outputs": [
    {
     "name": "stdout",
     "output_type": "stream",
     "text": [
      "(4.0, [0, 2, 3, 1])\n",
      "(4.0, [0, 2, 3, 1])\n",
      "<class 'list'>\n"
     ]
    }
   ],
   "source": [
    "import tsp\n",
    "t = tsp.tsp([(0,0), (0,1), (1,0), (1,1)])\n",
    "print(t)\n",
    "\n",
    "mat = [[  0,   1, 1, 1.5],\n",
    "       [  1,   0, 1.5, 1],\n",
    "       [  1, 1.5,   0, 1],\n",
    "       [1.5,   1,   1, 0]]\n",
    "r = range(len(mat))\n",
    "\n",
    "dist = {(i, j): mat[i][j] for i in r for j in r}\n",
    "print(tsp.tsp(r, dist))\n",
    "print(type(mat))"
   ]
  },
  {
   "cell_type": "code",
   "execution_count": 2,
   "metadata": {},
   "outputs": [
    {
     "name": "stdout",
     "output_type": "stream",
     "text": [
      "---- 899.2179346846492\n"
     ]
    }
   ],
   "source": [
    "from math import *\n",
    "\n",
    "def calcDistance(Lat_A, Lng_A, Lat_B, Lng_B):\n",
    "    EARTH_RADIUS = 6378.137;\n",
    "    radLat1 = radians(Lat_A)\n",
    "    radLat2 = radians(Lat_B)\n",
    "    a=radLat1-radLat2\n",
    "    b=radians(Lng_A)-radians(Lng_B)\n",
    " \n",
    "    s = 2 * asin(sqrt(pow(sin(a/2),2)+cos(radLat1)*cos(radLat2)*pow(sin(b/2),2)));  \n",
    "    s = s * EARTH_RADIUS;  \n",
    "    return s;  \n",
    "\n",
    "Lat_A=32.060255; Lng_A=118.796877 # 南京\n",
    "Lat_B=39.904211; Lng_B=116.407395 # 北京\n",
    "distance=calcDistance(Lat_A,Lng_A,Lat_B,Lng_B)\n",
    "print(\"----\",distance)\n"
   ]
  },
  {
   "cell_type": "code",
   "execution_count": 76,
   "metadata": {},
   "outputs": [],
   "source": [
    "import numpy as np\n",
    "import pandas as pd\n",
    "def readData():\n",
    "    train = pd.read_csv(\"Data.csv\",encoding=\"big5\")\n",
    "    return train"
   ]
  },
  {
   "cell_type": "code",
   "execution_count": 77,
   "metadata": {},
   "outputs": [
    {
     "name": "stdout",
     "output_type": "stream",
     "text": [
      "     科系         緯度          經度\n",
      "0   中文系  23.000364  120.217986\n",
      "1   外文系  23.000753  120.217760\n",
      "2   歷史系  22.999482  120.217358\n",
      "3   台文系  23.001983  120.215558\n",
      "4   數學系  22.998655  120.219426\n",
      "5   物理系  22.997538  120.219652\n",
      "6   化學系  22.997958  120.219689\n",
      "7   地科系  22.997481  120.218663\n",
      "8   光電系  22.996574  120.218577\n",
      "9   機械系  22.997204  120.223626\n",
      "10  化工系  22.997767  120.222533\n",
      "11  資源系  22.997934  120.220845\n",
      "12  材料系  22.998562  120.220937\n",
      "13  土木系  22.999267  120.221152\n",
      "14  水利系  23.000400  120.221363\n",
      "15  會計系  22.997606  120.217060\n",
      "16  統計系  22.998292  120.217722\n",
      "17  工資系  22.997857  120.217205\n",
      "18  企管系  22.997966  120.217835\n",
      "19  交管系  22.998362  120.217423\n",
      "20  護理系  23.001441  120.220876\n",
      "21  醫技系  23.002018  120.221883\n",
      "22  醫學系  23.002386  120.220905\n",
      "23  物治系  23.001447  120.221687\n",
      "24  職治系  23.001328  120.221676\n",
      "25  藥學系  23.001943  120.220900\n",
      "26  法律系  23.002089  120.216515\n",
      "27  政治系  23.001737  120.216663\n",
      "28  經濟系  23.001788  120.216588\n",
      "29  心理系  23.001829  120.216573\n",
      "30  電機系  22.996888  120.222521\n",
      "31  資訊系  22.997336  120.220845\n",
      "32  建築系  23.000830  120.215188\n",
      "33  都計系  23.000953  120.215717\n",
      "34  工設系  22.999716  120.215974\n",
      "35  生科系  23.003061  120.216805\n",
      "36  生技系  23.003061  120.216805\n",
      "37  工科系  22.996589  120.220800\n",
      "38  能源系  22.995446  120.223036\n",
      "39  系統系  22.996545  120.223718\n",
      "40  航太系  22.995446  120.223036\n",
      "41  環工系  23.000034  120.220792\n",
      "42  測量系  22.998669  120.219830\n",
      "43  醫工系  23.002018  120.221883\n",
      "{'中文系': 0, '外文系': 1, '歷史系': 2, '台文系': 3, '數學系': 4, '物理系': 5, '化學系': 6, '地科系': 7, '光電系': 8, '機械系': 9, '化工系': 10, '資源系': 11, '材料系': 12, '土木系': 13, '水利系': 14, '會計系': 15, '統計系': 16, '工資系': 17, '企管系': 18, '交管系': 19, '護理系': 20, '醫技系': 21, '醫學系': 22, '物治系': 23, '職治系': 24, '藥學系': 25, '法律系': 26, '政治系': 27, '經濟系': 28, '心理系': 29, '電機系': 30, '資訊系': 31, '建築系': 32, '都計系': 33, '工設系': 34, '生科系': 35, '生技系': 36, '工科系': 37, '能源系': 38, '系統系': 39, '航太系': 40, '環工系': 41, '測量系': 42, '醫工系': 43}\n"
     ]
    }
   ],
   "source": [
    "data=readData()\n",
    "mapping={}\n",
    "print(data)\n",
    "for i in range(len(data[\"科系\"])):\n",
    "    mapping[data[\"科系\"][i]]=i\n",
    "print(mapping)"
   ]
  },
  {
   "cell_type": "code",
   "execution_count": 79,
   "metadata": {},
   "outputs": [
    {
     "name": "stdout",
     "output_type": "stream",
     "text": [
      "[[0. 0. 0. ... 0. 0. 0.]\n",
      " [0. 0. 0. ... 0. 0. 0.]\n",
      " [0. 0. 0. ... 0. 0. 0.]\n",
      " ...\n",
      " [0. 0. 0. ... 0. 0. 0.]\n",
      " [0. 0. 0. ... 0. 0. 0.]\n",
      " [0. 0. 0. ... 0. 0. 0.]]\n"
     ]
    }
   ],
   "source": [
    "a = np.zeros(shape=(len(data[\"科系\"]),len(data[\"科系\"])))\n",
    "print(a)"
   ]
  },
  {
   "cell_type": "code",
   "execution_count": null,
   "metadata": {},
   "outputs": [],
   "source": []
  }
 ],
 "metadata": {
  "kernelspec": {
   "display_name": "Python 3",
   "language": "python",
   "name": "python3"
  },
  "language_info": {
   "codemirror_mode": {
    "name": "ipython",
    "version": 3
   },
   "file_extension": ".py",
   "mimetype": "text/x-python",
   "name": "python",
   "nbconvert_exporter": "python",
   "pygments_lexer": "ipython3",
   "version": "3.7.0"
  }
 },
 "nbformat": 4,
 "nbformat_minor": 2
}
