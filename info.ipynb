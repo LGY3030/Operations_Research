{
 "cells": [
  {
   "cell_type": "code",
   "execution_count": 1,
   "metadata": {},
   "outputs": [
    {
     "name": "stdout",
     "output_type": "stream",
     "text": [
      "(4.0, [0, 2, 3, 1])\n",
      "(4.0, [0, 2, 3, 1])\n",
      "<class 'list'>\n"
     ]
    }
   ],
   "source": [
    "import tsp\n",
    "t = tsp.tsp([(0,0), (0,1), (1,0), (1,1)])\n",
    "print(t)\n",
    "\n",
    "mat = [[  0,   1, 1, 1.5],\n",
    "       [  1,   0, 1.5, 1],\n",
    "       [  1, 1.5,   0, 1],\n",
    "       [1.5,   1,   1, 0]]\n",
    "r = range(len(mat))\n",
    "\n",
    "dist = {(i, j): mat[i][j] for i in r for j in r}\n",
    "print(tsp.tsp(r, dist))\n",
    "print(type(mat))"
   ]
  },
  {
   "cell_type": "code",
   "execution_count": 2,
   "metadata": {},
   "outputs": [
    {
     "name": "stdout",
     "output_type": "stream",
     "text": [
      "---- 899.2179346846492\n"
     ]
    }
   ],
   "source": [
    "from math import *\n",
    "\n",
    "def calcDistance(Lat_A, Lng_A, Lat_B, Lng_B):\n",
    "    EARTH_RADIUS = 6378.137;\n",
    "    radLat1 = radians(Lat_A)\n",
    "    radLat2 = radians(Lat_B)\n",
    "    a=radLat1-radLat2\n",
    "    b=radians(Lng_A)-radians(Lng_B)\n",
    " \n",
    "    s = 2 * asin(sqrt(pow(sin(a/2),2)+cos(radLat1)*cos(radLat2)*pow(sin(b/2),2)));  \n",
    "    s = s * EARTH_RADIUS;  \n",
    "    return s;  \n",
    "\n",
    "Lat_A=32.060255; Lng_A=118.796877 # 南京\n",
    "Lat_B=39.904211; Lng_B=116.407395 # 北京\n",
    "distance=calcDistance(Lat_A,Lng_A,Lat_B,Lng_B)\n",
    "print(\"----\",distance)"
   ]
  },
  {
   "cell_type": "code",
   "execution_count": null,
   "metadata": {},
   "outputs": [],
   "source": []
  }
 ],
 "metadata": {
  "kernelspec": {
   "display_name": "Python 3",
   "language": "python",
   "name": "python3"
  },
  "language_info": {
   "codemirror_mode": {
    "name": "ipython",
    "version": 3
   },
   "file_extension": ".py",
   "mimetype": "text/x-python",
   "name": "python",
   "nbconvert_exporter": "python",
   "pygments_lexer": "ipython3",
   "version": "3.7.0"
  }
 },
 "nbformat": 4,
 "nbformat_minor": 2
}
